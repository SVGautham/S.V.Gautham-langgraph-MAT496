{
  "cells": [
    {
      "cell_type": "markdown",
      "id": "256d3948",
      "metadata": {
        "id": "256d3948"
      },
      "source": [
        "[![Open in Colab](https://colab.research.google.com/assets/colab-badge.svg)](https://colab.research.google.com/github/langchain-ai/langchain-academy/blob/main/module-2/state-schema.ipynb) [![Open in LangChain Academy](https://cdn.prod.website-files.com/65b8cd72835ceeacd4449a53/66e9eba12c7b7688aa3dbb5e_LCA-badge-green.svg)](https://academy.langchain.com/courses/take/intro-to-langgraph/lessons/58239426-lesson-1-state-schema)"
      ]
    },
    {
      "cell_type": "markdown",
      "id": "f118fabe-37b7-4cd4-b7a4-9b0fc3875ca3",
      "metadata": {
        "id": "f118fabe-37b7-4cd4-b7a4-9b0fc3875ca3"
      },
      "source": [
        "# State Schema\n",
        "\n",
        "## Review\n",
        "\n",
        "In module 1, we laid the foundations! We built up to an agent that can:\n",
        "\n",
        "* `act` - let the model call specific tools\n",
        "* `observe` - pass the tool output back to the model\n",
        "* `reason` - let the model reason about the tool output to decide what to do next (e.g., call another tool or just respond directly)\n",
        "* `persist state` - use an in memory checkpointer to support long-running conversations with interruptions\n",
        "\n",
        "And, we showed how to serve it locally in LangGraph Studio or deploy it with LangGraph Cloud.\n",
        "\n",
        "## Goals\n",
        "\n",
        "In this module, we're going to build a deeper understanding of both state and memory.\n",
        "\n",
        "First, let's review a few different ways to define your state schema."
      ]
    },
    {
      "cell_type": "code",
      "execution_count": 39,
      "id": "b9a896f4-8509-456a-9a25-46532342f459",
      "metadata": {
        "id": "b9a896f4-8509-456a-9a25-46532342f459"
      },
      "outputs": [],
      "source": [
        "%%capture --no-stderr\n",
        "%pip install --quiet -U langgraph"
      ]
    },
    {
      "cell_type": "markdown",
      "id": "9f7927b0-9909-4e54-b997-ac49c1aeaa09",
      "metadata": {
        "id": "9f7927b0-9909-4e54-b997-ac49c1aeaa09"
      },
      "source": [
        "## Schema\n",
        "\n",
        "When we define a LangGraph `StateGraph`, we use a [state schema](https://langchain-ai.github.io/langgraph/concepts/low_level/#state).\n",
        "\n",
        "The state schema represents the structure and types of data that our graph will use.\n",
        "\n",
        "All nodes are expected to communicate with that schema.\n",
        "\n",
        "LangGraph offers flexibility in how you define your state schema, accommodating various Python [types](https://docs.python.org/3/library/stdtypes.html#type-objects) and validation approaches!\n",
        "\n",
        "## TypedDict\n",
        "\n",
        "As we mentioned in Module 1, we can use the `TypedDict` class from python's `typing` module.\n",
        "\n",
        "It allows you to specify keys and their corresponding value types.\n",
        "\n",
        "But, note that these are type hints.\n",
        "\n",
        "They can be used by static type checkers (like [mypy](https://github.com/python/mypy)) or IDEs to catch potential type-related errors before the code is run.\n",
        "\n",
        "But they are not enforced at runtime!"
      ]
    },
    {
      "cell_type": "code",
      "execution_count": 40,
      "id": "eedb39f0-af0f-4794-bc16-65980d278b59",
      "metadata": {
        "id": "eedb39f0-af0f-4794-bc16-65980d278b59"
      },
      "outputs": [],
      "source": [
        "from typing_extensions import TypedDict\n",
        "\n",
        "class TypedDictState(TypedDict):\n",
        "    foo: str\n",
        "    bar: str"
      ]
    },
    {
      "cell_type": "markdown",
      "id": "d5a71661-1086-455f-a5e0-a6d104034a95",
      "metadata": {
        "id": "d5a71661-1086-455f-a5e0-a6d104034a95"
      },
      "source": [
        "For more specific value constraints, you can use things like the `Literal` type hint.\n",
        "\n",
        "Here, `mood` can only be either \"happy\" or \"sad\"."
      ]
    },
    {
      "cell_type": "code",
      "execution_count": 41,
      "id": "4ad9749c-b127-433f-baa3-189a9349e9f6",
      "metadata": {
        "id": "4ad9749c-b127-433f-baa3-189a9349e9f6"
      },
      "outputs": [],
      "source": [
        "from typing import Literal\n",
        "\n",
        "class TypedDictState(TypedDict):\n",
        "    name: str\n",
        "    mood: Literal[\"happy\",\"sad\"]"
      ]
    },
    {
      "cell_type": "markdown",
      "id": "c1a9152d-1728-4a67-9e23-1ef622525047",
      "metadata": {
        "id": "c1a9152d-1728-4a67-9e23-1ef622525047"
      },
      "source": [
        "We can use our defined state class (e.g., here `TypedDictState`) in LangGraph by simply passing it to `StateGraph`.\n",
        "\n",
        "And, we can think about each state key as just a \"channel\" in our graph.\n",
        "\n",
        "As discussed in Module 1, we overwrite the value of a specified key or \"channel\" in each node."
      ]
    },
    {
      "cell_type": "code",
      "execution_count": 42,
      "id": "2f7a0d6d-f70b-44ed-86e3-7cdb39873ba4",
      "metadata": {
        "colab": {
          "base_uri": "https://localhost:8080/",
          "height": 350
        },
        "id": "2f7a0d6d-f70b-44ed-86e3-7cdb39873ba4",
        "outputId": "f168e632-c91a-4c6f-f4a9-05395e16b462"
      },
      "outputs": [
        {
          "output_type": "display_data",
          "data": {
            "image/png": "[encoded data removed]",
            "text/plain": [
              "<IPython.core.display.Image object>"
            ]
          },
          "metadata": {}
        }
      ],
      "source": [
        "import random\n",
        "from IPython.display import Image, display\n",
        "from langgraph.graph import StateGraph, START, END\n",
        "\n",
        "def node_1(state):\n",
        "    print(\"---Node 1---\")\n",
        "    return {\"name\": state['name'] + \" is ... \"}\n",
        "\n",
        "def node_2(state):\n",
        "    print(\"---Node 2---\")\n",
        "    return {\"mood\": \"happy\"}\n",
        "\n",
        "def node_3(state):\n",
        "    print(\"---Node 3---\")\n",
        "    return {\"mood\": \"sad\"}\n",
        "\n",
        "def decide_mood(state) -> Literal[\"node_2\", \"node_3\"]:\n",
        "\n",
        "    # Here, let's just do a 50 / 50 split between nodes 2, 3\n",
        "    if random.random() < 0.5:\n",
        "\n",
        "        # 50% of the time, we return Node 2\n",
        "        return \"node_2\"\n",
        "\n",
        "    # 50% of the time, we return Node 3\n",
        "    return \"node_3\"\n",
        "\n",
        "# Build graph\n",
        "builder = StateGraph(TypedDictState)\n",
        "builder.add_node(\"node_1\", node_1)\n",
        "builder.add_node(\"node_2\", node_2)\n",
        "builder.add_node(\"node_3\", node_3)\n",
        "\n",
        "# Logic\n",
        "builder.add_edge(START, \"node_1\")\n",
        "builder.add_conditional_edges(\"node_1\", decide_mood)\n",
        "builder.add_edge(\"node_2\", END)\n",
        "builder.add_edge(\"node_3\", END)\n",
        "\n",
        "# Add\n",
        "graph = builder.compile()\n",
        "\n",
        "# View\n",
        "display(Image(graph.get_graph().draw_mermaid_png()))"
      ]
    },
    {
      "cell_type": "markdown",
      "id": "724bb640-2b0e-46c1-9416-b5bcdb9c17c8",
      "metadata": {
        "id": "724bb640-2b0e-46c1-9416-b5bcdb9c17c8"
      },
      "source": [
        "Because our state is a dict, we simply invoke the graph with a dict to set an initial value of the `name` key in our state."
      ]
    },
    {
      "cell_type": "code",
      "execution_count": 43,
      "id": "74e09d32-6a08-4250-b19a-1f701828829d",
      "metadata": {
        "colab": {
          "base_uri": "https://localhost:8080/"
        },
        "id": "74e09d32-6a08-4250-b19a-1f701828829d",
        "outputId": "304c290d-f58d-4200-8471-1fff4b622fac"
      },
      "outputs": [
        {
          "output_type": "stream",
          "name": "stdout",
          "text": [
            "---Node 1---\n",
            "---Node 3---\n"
          ]
        },
        {
          "output_type": "execute_result",
          "data": {
            "text/plain": [
              "{'name': 'Lance is ... ', 'mood': 'sad'}"
            ]
          },
          "metadata": {},
          "execution_count": 43
        }
      ],
      "source": [
        "graph.invoke({\"name\":\"Lance\"})"
      ]
    },
    {
      "cell_type": "markdown",
      "id": "70cc5368-18b8-49c7-b561-41888b092311",
      "metadata": {
        "id": "70cc5368-18b8-49c7-b561-41888b092311"
      },
      "source": [
        "## Dataclass\n",
        "\n",
        "Python's [dataclasses](https://docs.python.org/3/library/dataclasses.html) provide [another way to define structured data](https://www.datacamp.com/tutorial/python-data-classes).\n",
        "\n",
        "Dataclasses offer a concise syntax for creating classes that are primarily used to store data."
      ]
    },
    {
      "cell_type": "code",
      "execution_count": 44,
      "id": "d576fc2c-350b-42ad-89e5-f93ae102dbf8",
      "metadata": {
        "id": "d576fc2c-350b-42ad-89e5-f93ae102dbf8"
      },
      "outputs": [],
      "source": [
        "from dataclasses import dataclass\n",
        "\n",
        "@dataclass\n",
        "class DataclassState:\n",
        "    name: str\n",
        "    mood: Literal[\"happy\",\"sad\"]"
      ]
    },
    {
      "cell_type": "markdown",
      "id": "64482b93-3c8f-4a30-925f-9be64e4b8b6f",
      "metadata": {
        "id": "64482b93-3c8f-4a30-925f-9be64e4b8b6f"
      },
      "source": [
        "To access the keys of a `dataclass`, we just need to modify the subscripting used in `node_1`:\n",
        "\n",
        "* We use `state.name` for the `dataclass` state rather than `state[\"name\"]` for the `TypedDict` above\n",
        "\n",
        "You'll notice something a bit odd: in each node, we still return a dictionary to perform the state updates.\n",
        "\n",
        "This is possible because LangGraph stores each key of your state object separately.\n",
        "\n",
        "The object returned by the node only needs to have keys (attributes) that match those in the state!\n",
        "\n",
        "In this case, the `dataclass` has key `name` so we can update it by passing a dict from our node, just as we did when state was a `TypedDict`."
      ]
    },
    {
      "cell_type": "code",
      "execution_count": 45,
      "id": "1e1eda69-916f-4f6e-b400-6e65f73d8716",
      "metadata": {
        "colab": {
          "base_uri": "https://localhost:8080/",
          "height": 350
        },
        "id": "1e1eda69-916f-4f6e-b400-6e65f73d8716",
        "outputId": "b5e591cb-efcc-46ac-a8ac-851378e1e414"
      },
      "outputs": [
        {
          "output_type": "display_data",
          "data": {
            "image/png": "[encoded data removed]",
            "text/plain": [
              "<IPython.core.display.Image object>"
            ]
          },
          "metadata": {}
        }
      ],
      "source": [
        "def node_1(state):\n",
        "    print(\"---Node 1---\")\n",
        "    return {\"name\": state.name + \" is ... \"}\n",
        "\n",
        "# Build graph\n",
        "builder = StateGraph(DataclassState)\n",
        "builder.add_node(\"node_1\", node_1)\n",
        "builder.add_node(\"node_2\", node_2)\n",
        "builder.add_node(\"node_3\", node_3)\n",
        "\n",
        "# Logic\n",
        "builder.add_edge(START, \"node_1\")\n",
        "builder.add_conditional_edges(\"node_1\", decide_mood)\n",
        "builder.add_edge(\"node_2\", END)\n",
        "builder.add_edge(\"node_3\", END)\n",
        "\n",
        "# Add\n",
        "graph = builder.compile()\n",
        "\n",
        "# View\n",
        "display(Image(graph.get_graph().draw_mermaid_png()))"
      ]
    },
    {
      "cell_type": "markdown",
      "id": "06beb50a-4878-4d7e-ac6c-d60a0f417eb3",
      "metadata": {
        "id": "06beb50a-4878-4d7e-ac6c-d60a0f417eb3"
      },
      "source": [
        "We invoke with a `dataclass` to set the initial values of each key / channel in our state!"
      ]
    },
    {
      "cell_type": "code",
      "execution_count": 46,
      "id": "8c042325-e93d-43e1-9ac7-a0e20c2fb08d",
      "metadata": {
        "colab": {
          "base_uri": "https://localhost:8080/"
        },
        "id": "8c042325-e93d-43e1-9ac7-a0e20c2fb08d",
        "outputId": "75edb2c9-17d3-44d2-adee-b73af8149782"
      },
      "outputs": [
        {
          "output_type": "stream",
          "name": "stdout",
          "text": [
            "---Node 1---\n",
            "---Node 2---\n"
          ]
        },
        {
          "output_type": "execute_result",
          "data": {
            "text/plain": [
              "{'name': 'Lance is ... ', 'mood': 'happy'}"
            ]
          },
          "metadata": {},
          "execution_count": 46
        }
      ],
      "source": [
        "graph.invoke(DataclassState(name=\"Lance\",mood=\"sad\"))"
      ]
    },
    {
      "cell_type": "markdown",
      "id": "2405e49b-e786-4bf9-ac85-1fb941d01bcd",
      "metadata": {
        "id": "2405e49b-e786-4bf9-ac85-1fb941d01bcd"
      },
      "source": [
        "## Pydantic\n",
        "\n",
        "As mentioned, `TypedDict` and `dataclasses` provide type hints but they don't enforce types at runtime.\n",
        "\n",
        "This means you could potentially assign invalid values without raising an error!\n",
        "\n",
        "For example, we can set `mood` to `mad` even though our type hint specifies `mood: list[Literal[\"happy\",\"sad\"]]`."
      ]
    },
    {
      "cell_type": "code",
      "execution_count": 47,
      "id": "522fcc76-abf7-452a-9d7b-000e06942d94",
      "metadata": {
        "id": "522fcc76-abf7-452a-9d7b-000e06942d94"
      },
      "outputs": [],
      "source": [
        "dataclass_instance = DataclassState(name=\"Lance\", mood=\"mad\")"
      ]
    },
    {
      "cell_type": "markdown",
      "id": "4f095c3a-96b5-4318-9303-20424b4455e9",
      "metadata": {
        "id": "4f095c3a-96b5-4318-9303-20424b4455e9"
      },
      "source": [
        "[Pydantic](https://docs.pydantic.dev/latest/api/base_model/) is a data validation and settings management library using Python type annotations.\n",
        "\n",
        "It's particularly well-suited [for defining state schemas in LangGraph](https://langchain-ai.github.io/langgraph/how-tos/state-model/) due to its validation capabilities.\n",
        "\n",
        "Pydantic can perform validation to check whether data conforms to the specified types and constraints at runtime."
      ]
    },
    {
      "cell_type": "code",
      "execution_count": 48,
      "id": "62e8720e-217f-4b98-837a-af45c3fa577f",
      "metadata": {
        "colab": {
          "base_uri": "https://localhost:8080/"
        },
        "id": "62e8720e-217f-4b98-837a-af45c3fa577f",
        "outputId": "0680d7d7-ffd0-43a0-c1fd-e520e1e1552e"
      },
      "outputs": [
        {
          "output_type": "stream",
          "name": "stdout",
          "text": [
            "Validation Error: 1 validation error for PydanticState\n",
            "mood\n",
            "  Value error, Each mood must be either 'happy' or 'sad' [type=value_error, input_value='mad', input_type=str]\n",
            "    For further information visit https://errors.pydantic.dev/2.11/v/value_error\n"
          ]
        }
      ],
      "source": [
        "from pydantic import BaseModel, field_validator, ValidationError\n",
        "\n",
        "class PydanticState(BaseModel):\n",
        "    name: str\n",
        "    mood: str # \"happy\" or \"sad\"\n",
        "\n",
        "    @field_validator('mood')\n",
        "    @classmethod\n",
        "    def validate_mood(cls, value):\n",
        "        # Ensure the mood is either \"happy\" or \"sad\"\n",
        "        if value not in [\"happy\", \"sad\"]:\n",
        "            raise ValueError(\"Each mood must be either 'happy' or 'sad'\")\n",
        "        return value\n",
        "\n",
        "try:\n",
        "    state = PydanticState(name=\"John Doe\", mood=\"mad\")\n",
        "except ValidationError as e:\n",
        "    print(\"Validation Error:\", e)"
      ]
    },
    {
      "cell_type": "markdown",
      "id": "f29913ca-0295-48eb-af4e-cae515dd9a9c",
      "metadata": {
        "id": "f29913ca-0295-48eb-af4e-cae515dd9a9c"
      },
      "source": [
        "We can use `PydanticState` in our graph seamlessly."
      ]
    },
    {
      "cell_type": "code",
      "execution_count": 49,
      "id": "91db3393-b7f8-46e5-8129-0e7539b2804c",
      "metadata": {
        "colab": {
          "base_uri": "https://localhost:8080/",
          "height": 350
        },
        "id": "91db3393-b7f8-46e5-8129-0e7539b2804c",
        "outputId": "30bcfadd-bac2-4e93-8db0-5677c7595592"
      },
      "outputs": [
        {
          "output_type": "display_data",
          "data": {
            "image/png": "[encoded data removed]",
            "text/plain": [
              "<IPython.core.display.Image object>"
            ]
          },
          "metadata": {}
        }
      ],
      "source": [
        "# Build graph\n",
        "builder = StateGraph(PydanticState)\n",
        "builder.add_node(\"node_1\", node_1)\n",
        "builder.add_node(\"node_2\", node_2)\n",
        "builder.add_node(\"node_3\", node_3)\n",
        "\n",
        "# Logic\n",
        "builder.add_edge(START, \"node_1\")\n",
        "builder.add_conditional_edges(\"node_1\", decide_mood)\n",
        "builder.add_edge(\"node_2\", END)\n",
        "builder.add_edge(\"node_3\", END)\n",
        "\n",
        "# Add\n",
        "graph = builder.compile()\n",
        "\n",
        "# View\n",
        "display(Image(graph.get_graph().draw_mermaid_png()))"
      ]
    },
    {
      "cell_type": "code",
      "execution_count": 50,
      "id": "e96c78be-b483-4fa4-949b-62d4274e97ac",
      "metadata": {
        "colab": {
          "base_uri": "https://localhost:8080/"
        },
        "id": "e96c78be-b483-4fa4-949b-62d4274e97ac",
        "outputId": "c8e02403-31b6-44bf-9430-38e9b971e2fe"
      },
      "outputs": [
        {
          "output_type": "stream",
          "name": "stdout",
          "text": [
            "---Node 1---\n",
            "---Node 3---\n"
          ]
        },
        {
          "output_type": "execute_result",
          "data": {
            "text/plain": [
              "{'name': 'Lance is ... ', 'mood': 'sad'}"
            ]
          },
          "metadata": {},
          "execution_count": 50
        }
      ],
      "source": [
        "graph.invoke(PydanticState(name=\"Lance\",mood=\"sad\"))"
      ]
    },
    {
      "cell_type": "markdown",
      "source": [
        "# EXAMPLES"
      ],
      "metadata": {
        "id": "O1C2zuUiRoV2"
      },
      "id": "O1C2zuUiRoV2"
    },
    {
      "cell_type": "markdown",
      "metadata": {
        "id": "906b2f90"
      },
      "source": [
        "## Example: TypedDict with Task Data\n",
        "\n",
        "This example uses `TypedDict` to define a state for a simple task, tracking its name and status.\n",
        "\n",
        "1.  **Define the State:** Create a `TypedDict` with keys for the task name and status.\n",
        "2.  **Define a Node:** Create a function that takes the state and updates the task status.\n",
        "3.  **Build and Invoke the Graph:** Set up the `StateGraph` and run it with an initial task state."
      ],
      "id": "906b2f90"
    },
    {
      "cell_type": "code",
      "metadata": {
        "colab": {
          "base_uri": "https://localhost:8080/"
        },
        "id": "d62c5621",
        "outputId": "c40bacff-a70d-44aa-e927-edd5638eb777"
      },
      "source": [
        "from typing_extensions import TypedDict\n",
        "from langgraph.graph import StateGraph, START, END\n",
        "\n",
        "# 1. Define the State\n",
        "class TaskTypedDictState(TypedDict):\n",
        "    task_name: str\n",
        "    status: str # e.g., \"pending\", \"in_progress\", \"completed\"\n",
        "\n",
        "# 2. Define a Node\n",
        "def update_task_status_typeddict(state: TaskTypedDictState) -> dict:\n",
        "    print(\"---Updating Task Status Node (TypedDict)---\")\n",
        "    # Simple logic: if pending, set to in_progress; if in_progress, set to completed\n",
        "    new_status = state['status']\n",
        "    if new_status == \"pending\":\n",
        "        new_status = \"in_progress\"\n",
        "    elif new_status == \"in_progress\":\n",
        "        new_status = \"completed\"\n",
        "    return {\"status\": new_status}\n",
        "\n",
        "# 3. Build and Invoke the Graph\n",
        "builder_task_typeddict = StateGraph(TaskTypedDictState)\n",
        "builder_task_typeddict.add_node(\"update_status\", update_task_status_typeddict)\n",
        "builder_task_typeddict.add_edge(START, \"update_status\")\n",
        "builder_task_typeddict.add_edge(\"update_status\", END)\n",
        "\n",
        "graph_task_typeddict = builder_task_typeddict.compile()\n",
        "\n",
        "initial_task_typeddict_state = {\n",
        "    \"task_name\": \"Write Report\",\n",
        "    \"status\": \"pending\"\n",
        "}\n",
        "result_task_typeddict = graph_task_typeddict.invoke(initial_task_typeddict_state)\n",
        "\n",
        "print(\"\\nInitial State:\", initial_task_typeddict_state)\n",
        "print(\"Final State:\", result_task_typeddict)"
      ],
      "id": "d62c5621",
      "execution_count": 57,
      "outputs": [
        {
          "output_type": "stream",
          "name": "stdout",
          "text": [
            "---Updating Task Status Node (TypedDict)---\n",
            "\n",
            "Initial State: {'task_name': 'Write Report', 'status': 'pending'}\n",
            "Final State: {'task_name': 'Write Report', 'status': 'in_progress'}\n"
          ]
        }
      ]
    },
    {
      "cell_type": "markdown",
      "metadata": {
        "id": "b737875d"
      },
      "source": [
        "Here is the graph visualization for the TypedDict task example:"
      ],
      "id": "b737875d"
    },
    {
      "cell_type": "code",
      "metadata": {
        "colab": {
          "base_uri": "https://localhost:8080/",
          "height": 251
        },
        "id": "2e29188c",
        "outputId": "0eea2840-e126-42b2-b9c4-d96c8eb81a0e"
      },
      "source": [
        "from IPython.display import Image, display\n",
        "display(Image(graph_task_typeddict.get_graph().draw_mermaid_png()))"
      ],
      "id": "2e29188c",
      "execution_count": 58,
      "outputs": [
        {
          "output_type": "display_data",
          "data": {
            "image/png": "[encoded data removed]",
            "text/plain": [
              "<IPython.core.display.Image object>"
            ]
          },
          "metadata": {}
        }
      ]
    },
    {
      "cell_type": "markdown",
      "metadata": {
        "id": "16bffa2e"
      },
      "source": [
        "##  Example: Dataclass with Task Data\n",
        "\n",
        "This example uses a `dataclass` for the task state, similar to the `TypedDict` example.\n",
        "\n",
        "1.  **Define the State:** Create a `dataclass` for the task data.\n",
        "2.  **Define a Node:** Create a function that takes the dataclass state and returns a dictionary with the updated status. Access fields using dot notation.\n",
        "3.  **Build and Invoke the Graph:** Set up the `StateGraph` and run it with an initial dataclass instance."
      ],
      "id": "16bffa2e"
    },
    {
      "cell_type": "code",
      "metadata": {
        "colab": {
          "base_uri": "https://localhost:8080/"
        },
        "id": "2a499a16",
        "outputId": "55d82cfd-79db-4a33-c68a-ee551a613885"
      },
      "source": [
        "from dataclasses import dataclass\n",
        "from langgraph.graph import StateGraph, START, END\n",
        "\n",
        "# 1. Define the State\n",
        "@dataclass\n",
        "class TaskDataclassState:\n",
        "    task_name: str\n",
        "    status: str # e.g., \"pending\", \"in_progress\", \"completed\"\n",
        "\n",
        "# 2. Define a Node\n",
        "def update_task_status_dataclass(state: TaskDataclassState) -> dict:\n",
        "    print(\"---Updating Task Status Node (Dataclass)---\")\n",
        "    # Simple logic: if pending, set to in_progress; if in_progress, set to completed\n",
        "    new_status = state.status\n",
        "    if new_status == \"pending\":\n",
        "        new_status = \"in_progress\"\n",
        "    elif new_status == \"in_progress\":\n",
        "        new_status = \"completed\"\n",
        "    return {\"status\": new_status}\n",
        "\n",
        "# 3. Build and Invoke the Graph\n",
        "builder_task_dataclass = StateGraph(TaskDataclassState)\n",
        "builder_task_dataclass.add_node(\"update_status\", update_task_status_dataclass)\n",
        "builder_task_dataclass.add_edge(START, \"update_status\")\n",
        "builder_task_dataclass.add_edge(\"update_status\", END)\n",
        "\n",
        "graph_task_dataclass = builder_task_dataclass.compile()\n",
        "\n",
        "initial_task_dataclass_state = TaskDataclassState(\n",
        "    task_name=\"Clean Room\",\n",
        "    status=\"in_progress\"\n",
        ")\n",
        "result_task_dataclass = graph_task_dataclass.invoke(initial_task_dataclass_state)\n",
        "\n",
        "print(\"\\nInitial State:\", initial_task_dataclass_state)\n",
        "print(\"Final State:\", result_task_dataclass)"
      ],
      "id": "2a499a16",
      "execution_count": 59,
      "outputs": [
        {
          "output_type": "stream",
          "name": "stdout",
          "text": [
            "---Updating Task Status Node (Dataclass)---\n",
            "\n",
            "Initial State: TaskDataclassState(task_name='Clean Room', status='in_progress')\n",
            "Final State: {'task_name': 'Clean Room', 'status': 'completed'}\n"
          ]
        }
      ]
    },
    {
      "cell_type": "markdown",
      "metadata": {
        "id": "be3ba679"
      },
      "source": [
        "Here is the graph visualization for the Dataclass task example:"
      ],
      "id": "be3ba679"
    },
    {
      "cell_type": "code",
      "metadata": {
        "colab": {
          "base_uri": "https://localhost:8080/",
          "height": 251
        },
        "id": "f5ab5286",
        "outputId": "a2d66cc5-9795-428e-9ee4-372c5edcf65b"
      },
      "source": [
        "from IPython.display import Image, display\n",
        "display(Image(graph_task_dataclass.get_graph().draw_mermaid_png()))"
      ],
      "id": "f5ab5286",
      "execution_count": 60,
      "outputs": [
        {
          "output_type": "display_data",
          "data": {
            "image/png": "[encoded data removed]",
            "text/plain": [
              "<IPython.core.display.Image object>"
            ]
          },
          "metadata": {}
        }
      ]
    },
    {
      "cell_type": "markdown",
      "metadata": {
        "id": "8c927970"
      },
      "source": [
        "##  Example: Pydantic with Task Data\n",
        "\n",
        "This example uses `Pydantic` for the task state, including basic validation for the status.\n",
        "\n",
        "1.  **Define the State:** Create a `BaseModel` for the task data, including a validator for the status to ensure it's one of the allowed values.\n",
        "2.  **Define a Node:** Create a function that takes the Pydantic state and returns a dictionary with the updated status. Access fields using dot notation.\n",
        "3.  **Build and Invoke the Graph:** Set up the `StateGraph` and run it with an initial Pydantic model instance. Include an example demonstrating validation error."
      ],
      "id": "8c927970"
    },
    {
      "cell_type": "code",
      "metadata": {
        "colab": {
          "base_uri": "https://localhost:8080/"
        },
        "id": "b12ab2ed",
        "outputId": "5b916f64-4634-4810-8d75-8b669294785d"
      },
      "source": [
        "from pydantic import BaseModel, field_validator, ValidationError\n",
        "from langgraph.graph import StateGraph, START, END\n",
        "\n",
        "# 1. Define the State\n",
        "class TaskPydanticState(BaseModel):\n",
        "    task_name: str\n",
        "    status: str # Must be one of \"pending\", \"in_progress\", \"completed\"\n",
        "\n",
        "    @field_validator('status')\n",
        "    @classmethod\n",
        "    def validate_status(cls, v):\n",
        "        allowed_statuses = [\"pending\", \"in_progress\", \"completed\"]\n",
        "        if v not in allowed_statuses:\n",
        "            raise ValueError(f\"Status must be one of {allowed_statuses}\")\n",
        "        return v\n",
        "\n",
        "# 2. Define a Node\n",
        "def update_task_status_pydantic(state: TaskPydanticState) -> dict:\n",
        "    print(\"---Updating Task Status Node (Pydantic)---\")\n",
        "    # Simple logic: if pending, set to in_progress; if in_progress, set to completed\n",
        "    new_status = state.status\n",
        "    if new_status == \"pending\":\n",
        "        new_status = \"in_progress\"\n",
        "    elif new_status == \"in_progress\":\n",
        "        new_status = \"completed\"\n",
        "    return {\"status\": new_status}\n",
        "\n",
        "# 3. Build and Invoke the Graph\n",
        "builder_task_pydantic = StateGraph(TaskPydanticState)\n",
        "builder_task_pydantic.add_node(\"update_status\", update_task_status_pydantic)\n",
        "builder_task_pydantic.add_edge(START, \"update_status\")\n",
        "builder_task_pydantic.add_edge(\"update_status\", END)\n",
        "\n",
        "graph_task_pydantic = builder_task_pydantic.compile()\n",
        "\n",
        "initial_task_pydantic_state = TaskPydanticState(\n",
        "    task_name=\"Buy Groceries\",\n",
        "    status=\"pending\"\n",
        ")\n",
        "result_task_pydantic = graph_task_pydantic.invoke(initial_task_pydantic_state)\n",
        "\n",
        "print(\"\\nInitial State:\", initial_task_pydantic_state)\n",
        "print(\"Final State:\", result_task_pydantic)\n",
        "\n",
        "# Example of Pydantic validation error\n",
        "try:\n",
        "    invalid_task_state = TaskPydanticState(\n",
        "        task_name=\"Invalid Task\",\n",
        "        status=\"started\" # Invalid status\n",
        "    )\n",
        "except ValidationError as e:\n",
        "    print(\"\\nValidation Error for invalid status:\", e)"
      ],
      "id": "b12ab2ed",
      "execution_count": 61,
      "outputs": [
        {
          "output_type": "stream",
          "name": "stdout",
          "text": [
            "---Updating Task Status Node (Pydantic)---\n",
            "\n",
            "Initial State: task_name='Buy Groceries' status='pending'\n",
            "Final State: {'task_name': 'Buy Groceries', 'status': 'in_progress'}\n",
            "\n",
            "Validation Error for invalid status: 1 validation error for TaskPydanticState\n",
            "status\n",
            "  Value error, Status must be one of ['pending', 'in_progress', 'completed'] [type=value_error, input_value='started', input_type=str]\n",
            "    For further information visit https://errors.pydantic.dev/2.11/v/value_error\n"
          ]
        }
      ]
    },
    {
      "cell_type": "markdown",
      "metadata": {
        "id": "d8087571"
      },
      "source": [
        "Here is the graph visualization for the Pydantic task example:"
      ],
      "id": "d8087571"
    },
    {
      "cell_type": "code",
      "metadata": {
        "colab": {
          "base_uri": "https://localhost:8080/",
          "height": 251
        },
        "id": "8fe1ffda",
        "outputId": "4c7f3671-c4ea-4f68-e36b-f3f5642d8bf9"
      },
      "source": [
        "from IPython.display import Image, display\n",
        "display(Image(graph_task_pydantic.get_graph().draw_mermaid_png()))"
      ],
      "id": "8fe1ffda",
      "execution_count": 62,
      "outputs": [
        {
          "output_type": "display_data",
          "data": {
            "image/png": "[encoded data removed]",
            "text/plain": [
              "<IPython.core.display.Image object>"
            ]
          },
          "metadata": {}
        }
      ]
    }
  ],
  "metadata": {
    "kernelspec": {
      "display_name": "Python 3 (ipykernel)",
      "language": "python",
      "name": "python3"
    },
    "language_info": {
      "codemirror_mode": {
        "name": "ipython",
        "version": 3
      },
      "file_extension": ".py",
      "mimetype": "text/x-python",
      "name": "python",
      "nbconvert_exporter": "python",
      "pygments_lexer": "ipython3",
      "version": "3.12.1"
    },
    "colab": {
      "provenance": []
    }
  },
  "nbformat": 4,
  "nbformat_minor": 5
}